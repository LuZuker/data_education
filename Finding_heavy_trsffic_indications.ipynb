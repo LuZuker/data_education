{
 "cells": [
  {
   "cell_type": "markdown",
   "id": "6ad409a1-3ec2-4721-b1bb-acf61b52bd1c",
   "metadata": {},
   "source": [
    "### Finding Heavy Traffic Indication on I-94\n",
    "\n",
    "We're going to analyze a dataset sbout the westbound traffic on the [I-94 Interstate highway](https://en.wikipedia.org/wiki/Interstate_94).\n",
    "\n",
    "The goal of our analysis is to determine a few indicators of heavy traffic on I-94, a station located approximately midway between Minneaplis and Saint Paul recorded the traffic data. This means that the result of our analysis will be about the westbound traffic in the proximity of the station.\n",
    "\n",
    "We've dataset 48204 rows and 9 columns, non-null values:\n",
    " \n",
    " 0   holiday              US National holidays plus regional holiday<br>\n",
    " 1   temp                 Average temp in kelvin<br>\n",
    " 2   rain_1h              Amount in mm of rain that occurred in the hour<br>\n",
    " 3   snow_1h              Amount in mm of snow that occurred in the hour<br>\n",
    " 4   clouds_all           Precentage of cloud cover<br>\n",
    " 5   weather_main         Short textual description of the current weather<br>\n",
    " 6   weather_description  Longer textural description of the current weather<br> \n",
    " 7   date_time            Hour of the data cillected  in local CST time<br>\n",
    " 8   traffic_volume       Reported westbound traffic volume, cars<br>"
   ]
  },
  {
   "cell_type": "code",
   "execution_count": 78,
   "id": "44fe36ff-bd01-41ef-a511-90df4d1a3f2f",
   "metadata": {},
   "outputs": [
    {
     "data": {
      "text/html": [
       "<div>\n",
       "<style scoped>\n",
       "    .dataframe tbody tr th:only-of-type {\n",
       "        vertical-align: middle;\n",
       "    }\n",
       "\n",
       "    .dataframe tbody tr th {\n",
       "        vertical-align: top;\n",
       "    }\n",
       "\n",
       "    .dataframe thead th {\n",
       "        text-align: right;\n",
       "    }\n",
       "</style>\n",
       "<table border=\"1\" class=\"dataframe\">\n",
       "  <thead>\n",
       "    <tr style=\"text-align: right;\">\n",
       "      <th></th>\n",
       "      <th>holiday</th>\n",
       "      <th>temp</th>\n",
       "      <th>rain_1h</th>\n",
       "      <th>snow_1h</th>\n",
       "      <th>clouds_all</th>\n",
       "      <th>weather_main</th>\n",
       "      <th>weather_description</th>\n",
       "      <th>date_time</th>\n",
       "      <th>traffic_volume</th>\n",
       "    </tr>\n",
       "  </thead>\n",
       "  <tbody>\n",
       "    <tr>\n",
       "      <th>48199</th>\n",
       "      <td>None</td>\n",
       "      <td>283.45</td>\n",
       "      <td>0.0</td>\n",
       "      <td>0.0</td>\n",
       "      <td>75</td>\n",
       "      <td>Clouds</td>\n",
       "      <td>broken clouds</td>\n",
       "      <td>2018-09-30 19:00:00</td>\n",
       "      <td>3543</td>\n",
       "    </tr>\n",
       "    <tr>\n",
       "      <th>48200</th>\n",
       "      <td>None</td>\n",
       "      <td>282.76</td>\n",
       "      <td>0.0</td>\n",
       "      <td>0.0</td>\n",
       "      <td>90</td>\n",
       "      <td>Clouds</td>\n",
       "      <td>overcast clouds</td>\n",
       "      <td>2018-09-30 20:00:00</td>\n",
       "      <td>2781</td>\n",
       "    </tr>\n",
       "    <tr>\n",
       "      <th>48201</th>\n",
       "      <td>None</td>\n",
       "      <td>282.73</td>\n",
       "      <td>0.0</td>\n",
       "      <td>0.0</td>\n",
       "      <td>90</td>\n",
       "      <td>Thunderstorm</td>\n",
       "      <td>proximity thunderstorm</td>\n",
       "      <td>2018-09-30 21:00:00</td>\n",
       "      <td>2159</td>\n",
       "    </tr>\n",
       "    <tr>\n",
       "      <th>48202</th>\n",
       "      <td>None</td>\n",
       "      <td>282.09</td>\n",
       "      <td>0.0</td>\n",
       "      <td>0.0</td>\n",
       "      <td>90</td>\n",
       "      <td>Clouds</td>\n",
       "      <td>overcast clouds</td>\n",
       "      <td>2018-09-30 22:00:00</td>\n",
       "      <td>1450</td>\n",
       "    </tr>\n",
       "    <tr>\n",
       "      <th>48203</th>\n",
       "      <td>None</td>\n",
       "      <td>282.12</td>\n",
       "      <td>0.0</td>\n",
       "      <td>0.0</td>\n",
       "      <td>90</td>\n",
       "      <td>Clouds</td>\n",
       "      <td>overcast clouds</td>\n",
       "      <td>2018-09-30 23:00:00</td>\n",
       "      <td>954</td>\n",
       "    </tr>\n",
       "  </tbody>\n",
       "</table>\n",
       "</div>"
      ],
      "text/plain": [
       "      holiday    temp  rain_1h  snow_1h  clouds_all  weather_main  \\\n",
       "48199    None  283.45      0.0      0.0          75        Clouds   \n",
       "48200    None  282.76      0.0      0.0          90        Clouds   \n",
       "48201    None  282.73      0.0      0.0          90  Thunderstorm   \n",
       "48202    None  282.09      0.0      0.0          90        Clouds   \n",
       "48203    None  282.12      0.0      0.0          90        Clouds   \n",
       "\n",
       "          weather_description            date_time  traffic_volume  \n",
       "48199           broken clouds  2018-09-30 19:00:00            3543  \n",
       "48200         overcast clouds  2018-09-30 20:00:00            2781  \n",
       "48201  proximity thunderstorm  2018-09-30 21:00:00            2159  \n",
       "48202         overcast clouds  2018-09-30 22:00:00            1450  \n",
       "48203         overcast clouds  2018-09-30 23:00:00             954  "
      ]
     },
     "execution_count": 78,
     "metadata": {},
     "output_type": "execute_result"
    }
   ],
   "source": [
    "import pandas as pd\n",
    "import matplotlib.pyplot as plt\n",
    "%matplotlib inline\n",
    "\n",
    "traffic=pd.read_csv('datasets/Metro_Interstate_Traffic_Volume.csv')\n",
    "traffic.head(5)\n",
    "traffic.tail(5)"
   ]
  },
  {
   "cell_type": "code",
   "execution_count": 79,
   "id": "96ad9484-0576-4d9e-a0b5-836e744e484a",
   "metadata": {},
   "outputs": [
    {
     "name": "stdout",
     "output_type": "stream",
     "text": [
      "<class 'pandas.core.frame.DataFrame'>\n",
      "RangeIndex: 48204 entries, 0 to 48203\n",
      "Data columns (total 9 columns):\n",
      " #   Column               Non-Null Count  Dtype  \n",
      "---  ------               --------------  -----  \n",
      " 0   holiday              48204 non-null  object \n",
      " 1   temp                 48204 non-null  float64\n",
      " 2   rain_1h              48204 non-null  float64\n",
      " 3   snow_1h              48204 non-null  float64\n",
      " 4   clouds_all           48204 non-null  int64  \n",
      " 5   weather_main         48204 non-null  object \n",
      " 6   weather_description  48204 non-null  object \n",
      " 7   date_time            48204 non-null  object \n",
      " 8   traffic_volume       48204 non-null  int64  \n",
      "dtypes: float64(3), int64(2), object(4)\n",
      "memory usage: 3.3+ MB\n"
     ]
    }
   ],
   "source": [
    "traffic.info()"
   ]
  },
  {
   "cell_type": "markdown",
   "id": "8a6464ad-1117-48c3-b7e5-8a6ec2848582",
   "metadata": {},
   "source": [
    "#### Analyzing traffic volume\n",
    "\n",
    "We're going to plot a histogram to visualize the distribution of the `traffic_volume` column"
   ]
  },
  {
   "cell_type": "code",
   "execution_count": 25,
   "id": "a134ade9-7023-4b59-9857-0fb82581c221",
   "metadata": {},
   "outputs": [
    {
     "data": {
      "image/png": "[encoded data removed]",
      "text/plain": [
       "<Figure size 432x288 with 1 Axes>"
      ]
     },
     "metadata": {
      "needs_background": "light"
     },
     "output_type": "display_data"
    }
   ],
   "source": [
    "traffic['traffic_volume'].plot.hist() #pandas method\n",
    "plt.show()"
   ]
  },
  {
   "cell_type": "code",
   "execution_count": 26,
   "id": "fbe3661d-2110-43a3-8174-e0bf0caf5b1d",
   "metadata": {},
   "outputs": [
    {
     "data": {
      "text/plain": [
       "count    48204.000000\n",
       "mean      3259.818355\n",
       "std       1986.860670\n",
       "min          0.000000\n",
       "25%       1193.000000\n",
       "50%       3380.000000\n",
       "75%       4933.000000\n",
       "max       7280.000000\n",
       "Name: traffic_volume, dtype: float64"
      ]
     },
     "execution_count": 26,
     "metadata": {},
     "output_type": "execute_result"
    }
   ],
   "source": [
    "traffic['traffic_volume'].describe()"
   ]
  },
  {
   "cell_type": "markdown",
   "id": "f672fa82-abf6-4c6a-8a9c-08ee93038b38",
   "metadata": {},
   "source": [
    "Traffic volume varied from 0 to 7280 cars, with an average of 3260 cars. About 25% of the time, there were 1193 cars - this probably occurs during the night, or when a road is under construction. This possibility that nighttime and daytime might influence traffic volume gives our analysis an interesting direction: comparing daytime with nighttime data.\n",
    "\n",
    "#### We'll stard dividing the dataset into two paths (daytime and nighttime data pro 12 hours)"
   ]
  },
  {
   "cell_type": "code",
   "execution_count": 28,
   "id": "b70dcb84-a1cb-4106-8de2-44ccc66d038a",
   "metadata": {},
   "outputs": [
    {
     "name": "stdout",
     "output_type": "stream",
     "text": [
      "(23877, 9)\n",
      "(24327, 9)\n"
     ]
    }
   ],
   "source": [
    "traffic['date_time']= pd.to_datetime(traffic['date_time'])\n",
    "day= traffic.copy()[(traffic['date_time'].dt.hour >=7\n",
    "                     \n",
    "                    )&(traffic['date_time'].dt.hour<19)]\n",
    "print(day.shape)\n",
    "night = traffic.copy()[(traffic['date_time'].dt.hour>=19)|(traffic['date_time'].dt.hour<7)]\n",
    "print(night.shape)"
   ]
  },
  {
   "cell_type": "code",
   "execution_count": 34,
   "id": "b5711f0a-9648-4f90-8fe4-c68e54ff9595",
   "metadata": {},
   "outputs": [
    {
     "data": {
      "image/png": "[encoded data removed]",
      "text/plain": [
       "<Figure size 1080x360 with 2 Axes>"
      ]
     },
     "metadata": {
      "needs_background": "light"
     },
     "output_type": "display_data"
    }
   ],
   "source": [
    "plt.figure(figsize=(15, 5))\n",
    "\n",
    "plt.subplot(1, 2, 1)\n",
    "plt.hist(day['traffic_volume'])\n",
    "plt.title('Traffic Volume Day')\n",
    "plt.ylabel('Frequency')\n",
    "plt.xlabel('traffic volume')\n",
    "\n",
    "plt.subplot(1, 2, 2)\n",
    "plt.hist(night['traffic_volume'])\n",
    "plt.title('Traffic Volume Night')\n",
    "plt.ylabel('Frequency')\n",
    "plt.xlabel('Traffic volume')\n",
    "\n",
    "plt.show()"
   ]
  },
  {
   "cell_type": "code",
   "execution_count": 35,
   "id": "260b46ef-1d8d-40a9-a4ed-30e90e6d7ccb",
   "metadata": {},
   "outputs": [
    {
     "data": {
      "text/plain": [
       "count    23877.000000\n",
       "mean      4762.047452\n",
       "std       1174.546482\n",
       "min          0.000000\n",
       "25%       4252.000000\n",
       "50%       4820.000000\n",
       "75%       5559.000000\n",
       "max       7280.000000\n",
       "Name: traffic_volume, dtype: float64"
      ]
     },
     "execution_count": 35,
     "metadata": {},
     "output_type": "execute_result"
    }
   ],
   "source": [
    "day['traffic_volume'].describe()"
   ]
  },
  {
   "cell_type": "code",
   "execution_count": 36,
   "id": "6d264926-30d5-402a-823e-9fd23ca41744",
   "metadata": {},
   "outputs": [
    {
     "data": {
      "text/plain": [
       "count    24327.000000\n",
       "mean      1785.377441\n",
       "std       1441.951197\n",
       "min          0.000000\n",
       "25%        530.000000\n",
       "50%       1287.000000\n",
       "75%       2819.000000\n",
       "max       6386.000000\n",
       "Name: traffic_volume, dtype: float64"
      ]
     },
     "execution_count": 36,
     "metadata": {},
     "output_type": "execute_result"
    }
   ],
   "source": [
    "night['traffic_volume'].describe()"
   ]
  },
  {
   "cell_type": "markdown",
   "id": "16632ceb-c7d8-4643-8c93-cecc619d41bd",
   "metadata": {},
   "source": [
    "We can saw, there are 25% of value are less than 4252, and more cars passing the station each hour 75% of the time. the histogram dispaying the nighttime data is right skewed, 75 % of the time - was less than 2819 cars.\n",
    "\n",
    "#### Indicators of heavy traffic is time.\n",
    "We're going to look at a few line plot showing how traffic volume changed according to rhe following parameters (mounth, day of week and time of day). \n",
    "The faster way to get the avarege traffic volume for each month is by using the `DataFrame.groupby()`"
   ]
  },
  {
   "cell_type": "code",
   "execution_count": 41,
   "id": "e1ffdd15-cd58-4c0c-ab3c-24621a3bb513",
   "metadata": {},
   "outputs": [
    {
     "data": {
      "text/plain": [
       "month\n",
       "1     4495.613727\n",
       "2     4711.198394\n",
       "3     4889.409560\n",
       "4     4906.894305\n",
       "5     4911.121609\n",
       "6     4898.019566\n",
       "7     4595.035744\n",
       "8     4928.302035\n",
       "9     4870.783145\n",
       "10    4921.234922\n",
       "11    4704.094319\n",
       "12    4374.834566\n",
       "Name: traffic_volume, dtype: float64"
      ]
     },
     "execution_count": 41,
     "metadata": {},
     "output_type": "execute_result"
    }
   ],
   "source": [
    "day['month'] = day['date_time'].dt.month\n",
    "by_month = day.groupby('month').mean()\n",
    "by_month['traffic_volume']\n"
   ]
  },
  {
   "cell_type": "code",
   "execution_count": 42,
   "id": "3b163ad0-3307-4cea-8ca3-c8f667b20073",
   "metadata": {},
   "outputs": [
    {
     "data": {
      "image/png": "[encoded data removed]",
      "text/plain": [
       "<Figure size 432x288 with 1 Axes>"
      ]
     },
     "metadata": {
      "needs_background": "light"
     },
     "output_type": "display_data"
    }
   ],
   "source": [
    "by_month['traffic_volume'].plot.line()\n",
    "plt.show()"
   ]
  },
  {
   "cell_type": "markdown",
   "id": "24717558-1e8d-46db-bc9c-6ae892d45230",
   "metadata": {},
   "source": [
    "We have one interesting exception: July. let's control traffic volume each year in July"
   ]
  },
  {
   "cell_type": "code",
   "execution_count": 49,
   "id": "067b941e-88e6-4519-936b-6b75c2d062f0",
   "metadata": {},
   "outputs": [
    {
     "data": {
      "text/html": [
       "<div>\n",
       "<style scoped>\n",
       "    .dataframe tbody tr th:only-of-type {\n",
       "        vertical-align: middle;\n",
       "    }\n",
       "\n",
       "    .dataframe tbody tr th {\n",
       "        vertical-align: top;\n",
       "    }\n",
       "\n",
       "    .dataframe thead th {\n",
       "        text-align: right;\n",
       "    }\n",
       "</style>\n",
       "<table border=\"1\" class=\"dataframe\">\n",
       "  <thead>\n",
       "    <tr style=\"text-align: right;\">\n",
       "      <th></th>\n",
       "      <th>temp</th>\n",
       "      <th>rain_1h</th>\n",
       "      <th>snow_1h</th>\n",
       "      <th>clouds_all</th>\n",
       "      <th>traffic_volume</th>\n",
       "      <th>month</th>\n",
       "    </tr>\n",
       "    <tr>\n",
       "      <th>year</th>\n",
       "      <th></th>\n",
       "      <th></th>\n",
       "      <th></th>\n",
       "      <th></th>\n",
       "      <th></th>\n",
       "      <th></th>\n",
       "    </tr>\n",
       "  </thead>\n",
       "  <tbody>\n",
       "    <tr>\n",
       "      <th>2013</th>\n",
       "      <td>296.796832</td>\n",
       "      <td>0.529838</td>\n",
       "      <td>0.0</td>\n",
       "      <td>24.245946</td>\n",
       "      <td>4914.354054</td>\n",
       "      <td>7.0</td>\n",
       "    </tr>\n",
       "    <tr>\n",
       "      <th>2014</th>\n",
       "      <td>296.225777</td>\n",
       "      <td>0.296686</td>\n",
       "      <td>0.0</td>\n",
       "      <td>52.542522</td>\n",
       "      <td>4871.598240</td>\n",
       "      <td>7.0</td>\n",
       "    </tr>\n",
       "    <tr>\n",
       "      <th>2015</th>\n",
       "      <td>296.657288</td>\n",
       "      <td>0.457241</td>\n",
       "      <td>0.0</td>\n",
       "      <td>35.301887</td>\n",
       "      <td>4613.146226</td>\n",
       "      <td>7.0</td>\n",
       "    </tr>\n",
       "    <tr>\n",
       "      <th>2016</th>\n",
       "      <td>297.018584</td>\n",
       "      <td>24.633670</td>\n",
       "      <td>0.0</td>\n",
       "      <td>52.534483</td>\n",
       "      <td>3924.923645</td>\n",
       "      <td>7.0</td>\n",
       "    </tr>\n",
       "    <tr>\n",
       "      <th>2017</th>\n",
       "      <td>297.139799</td>\n",
       "      <td>0.000000</td>\n",
       "      <td>0.0</td>\n",
       "      <td>41.724311</td>\n",
       "      <td>4734.120301</td>\n",
       "      <td>7.0</td>\n",
       "    </tr>\n",
       "    <tr>\n",
       "      <th>2018</th>\n",
       "      <td>296.794566</td>\n",
       "      <td>0.000000</td>\n",
       "      <td>0.0</td>\n",
       "      <td>46.719178</td>\n",
       "      <td>4586.899543</td>\n",
       "      <td>7.0</td>\n",
       "    </tr>\n",
       "  </tbody>\n",
       "</table>\n",
       "</div>"
      ],
      "text/plain": [
       "            temp    rain_1h  snow_1h  clouds_all  traffic_volume  month\n",
       "year                                                                   \n",
       "2013  296.796832   0.529838      0.0   24.245946     4914.354054    7.0\n",
       "2014  296.225777   0.296686      0.0   52.542522     4871.598240    7.0\n",
       "2015  296.657288   0.457241      0.0   35.301887     4613.146226    7.0\n",
       "2016  297.018584  24.633670      0.0   52.534483     3924.923645    7.0\n",
       "2017  297.139799   0.000000      0.0   41.724311     4734.120301    7.0\n",
       "2018  296.794566   0.000000      0.0   46.719178     4586.899543    7.0"
      ]
     },
     "execution_count": 49,
     "metadata": {},
     "output_type": "execute_result"
    }
   ],
   "source": [
    "day['year'] = day['date_time'].dt.year\n",
    "july = day[day['month'] == 7]\n",
    "july.groupby('year').mean()"
   ]
  },
  {
   "cell_type": "code",
   "execution_count": 47,
   "id": "149a062b-672c-4f4f-bdda-f921747d9694",
   "metadata": {},
   "outputs": [
    {
     "data": {
      "image/png": "[encoded data removed]",
      "text/plain": [
       "<Figure size 432x288 with 1 Axes>"
      ]
     },
     "metadata": {
      "needs_background": "light"
     },
     "output_type": "display_data"
    }
   ],
   "source": [
    "july.groupby('year').mean()['traffic_volume'].plot.line()\n",
    "plt.show()"
   ]
  },
  {
   "cell_type": "markdown",
   "id": "67eb2b9e-3734-40cb-a600-3c14810b81b3",
   "metadata": {},
   "source": [
    "Typically. the traffic is heavy in July, like the other warm months. We can see actually, new about that month and reason for this.\n",
    "\n",
    "#### Time Indicators - day of the week"
   ]
  },
  {
   "cell_type": "code",
   "execution_count": 50,
   "id": "c1e3a6d3-c6ba-4a1d-9cd9-9229ef6ab6d4",
   "metadata": {},
   "outputs": [
    {
     "data": {
      "text/plain": [
       "dayofweek\n",
       "0    4893.551286\n",
       "1    5189.004782\n",
       "2    5284.454282\n",
       "3    5311.303730\n",
       "4    5291.600829\n",
       "5    3927.249558\n",
       "6    3436.541789\n",
       "Name: traffic_volume, dtype: float64"
      ]
     },
     "execution_count": 50,
     "metadata": {},
     "output_type": "execute_result"
    }
   ],
   "source": [
    "day['dayofweek']= day['date_time'].dt.dayofweek\n",
    "by_dayofweek = day.groupby('dayofweek').mean()\n",
    "by_dayofweek['traffic_volume'] # 0 - Monday"
   ]
  },
  {
   "cell_type": "code",
   "execution_count": 51,
   "id": "2785e284-93d3-4014-99eb-14dc8dd70005",
   "metadata": {},
   "outputs": [
    {
     "data": {
      "image/png": "[encoded data removed]",
      "text/plain": [
       "<Figure size 432x288 with 1 Axes>"
      ]
     },
     "metadata": {
      "needs_background": "light"
     },
     "output_type": "display_data"
    }
   ],
   "source": [
    "by_dayofweek['traffic_volume'].plot.line()\n",
    "plt.show()"
   ]
  },
  {
   "cell_type": "markdown",
   "id": "f8df52b8-2a55-458a-b88e-0cf049a3820c",
   "metadata": {},
   "source": [
    "We can say, the traffic volume is heavier on bussness days\n",
    "\n",
    "#### Time Indicator - time of day"
   ]
  },
  {
   "cell_type": "code",
   "execution_count": 54,
   "id": "98828485-238f-4fde-bc83-254e13e427b9",
   "metadata": {},
   "outputs": [
    {
     "name": "stdout",
     "output_type": "stream",
     "text": [
      "hour\n",
      "7     6030.413559\n",
      "8     5503.497970\n",
      "9     4895.269257\n",
      "10    4378.419118\n",
      "11    4633.419470\n",
      "12    4855.382143\n",
      "13    4859.180473\n",
      "14    5152.995778\n",
      "15    5592.897768\n",
      "16    6189.473647\n",
      "17    5784.827133\n",
      "18    4434.209431\n",
      "Name: traffic_volume, dtype: float64\n",
      "hour\n",
      "7     1589.365894\n",
      "8     2338.578073\n",
      "9     3111.623917\n",
      "10    3686.632302\n",
      "11    4044.154955\n",
      "12    4372.482883\n",
      "13    4362.296564\n",
      "14    4358.543796\n",
      "15    4342.456881\n",
      "16    4339.693805\n",
      "17    4151.919929\n",
      "18    3811.792279\n",
      "Name: traffic_volume, dtype: float64\n"
     ]
    }
   ],
   "source": [
    "day['hour'] = day['date_time'].dt.hour\n",
    "bussiness_days = day.copy()[day['dayofweek'] <= 4] # 4 == Friday\n",
    "weekend = day.copy()[day['dayofweek'] >= 5] # 5 == Saturday\n",
    "by_hour_business = bussiness_days.groupby('hour').mean()\n",
    "by_hour_weekend = weekend.groupby('hour').mean()\n",
    "\n",
    "print(by_hour_business['traffic_volume'])\n",
    "print(by_hour_weekend['traffic_volume'])"
   ]
  },
  {
   "cell_type": "code",
   "execution_count": 57,
   "id": "9dccc8bd-8141-4459-862f-251899b40b46",
   "metadata": {},
   "outputs": [
    {
     "data": {
      "image/png": "[encoded data removed]",
      "text/plain": [
       "<Figure size 1080x360 with 2 Axes>"
      ]
     },
     "metadata": {
      "needs_background": "light"
     },
     "output_type": "display_data"
    }
   ],
   "source": [
    "plt.figure(figsize=(15,5))\n",
    "\n",
    "plt.subplot(1, 2, 1)\n",
    "by_hour_business['traffic_volume'].plot.line()\n",
    "plt.ylim(1500, 6250)\n",
    "plt.title('Traffic Volume by hour Monday-Friday')\n",
    "\n",
    "plt.subplot(1, 2, 2)\n",
    "by_hour_weekend['traffic_volume'].plot.line()\n",
    "plt.ylim(1500, 6250)\n",
    "plt.title('Traffic Volume by hour Weekend')\n",
    "plt.show()"
   ]
  },
  {
   "cell_type": "markdown",
   "id": "93428fa5-007d-4e03-b3b3-0851f3dbaaa3",
   "metadata": {},
   "source": [
    "Generally, traffic volume is heavy bussness days, the rush hours are around 7 and 16 - when most people treval from home to work and back.\n",
    "To summarize, the traffic is heavier during warm month, on bussness days and the rush hours are around 7 and 16 to compared to cold month, weekend\n",
    "\n",
    "#### Weather indicators\n",
    "\n",
    "The dataset have a few useful columns about weather, so let's start by looking up their correlation values with `traffic_volume`"
   ]
  },
  {
   "cell_type": "code",
   "execution_count": 58,
   "id": "230b8d57-05e2-46ec-b1eb-62c743ac42a9",
   "metadata": {},
   "outputs": [
    {
     "data": {
      "text/plain": [
       "temp              0.130299\n",
       "rain_1h           0.004714\n",
       "snow_1h           0.000733\n",
       "clouds_all        0.067054\n",
       "traffic_volume    1.000000\n",
       "Name: traffic_volume, dtype: float64"
      ]
     },
     "execution_count": 58,
     "metadata": {},
     "output_type": "execute_result"
    }
   ],
   "source": [
    "traffic.corr()['traffic_volume']"
   ]
  },
  {
   "cell_type": "code",
   "execution_count": 60,
   "id": "93842ea6-7986-4a6c-8247-745fbe044e61",
   "metadata": {},
   "outputs": [
    {
     "data": {
      "text/plain": [
       "temp              0.128317\n",
       "rain_1h           0.003697\n",
       "snow_1h           0.001265\n",
       "clouds_all       -0.032932\n",
       "traffic_volume    1.000000\n",
       "month            -0.022337\n",
       "year             -0.003557\n",
       "dayofweek        -0.416453\n",
       "hour              0.172704\n",
       "Name: traffic_volume, dtype: float64"
      ]
     },
     "execution_count": 60,
     "metadata": {},
     "output_type": "execute_result"
    }
   ],
   "source": [
    "day.corr()['traffic_volume']"
   ]
  },
  {
   "cell_type": "code",
   "execution_count": 63,
   "id": "76f088ea-a427-412f-85cc-ddfb748a6969",
   "metadata": {},
   "outputs": [
    {
     "data": {
      "image/png": "[encoded data removed]",
      "text/plain": [
       "<Figure size 432x288 with 1 Axes>"
      ]
     },
     "metadata": {
      "needs_background": "light"
     },
     "output_type": "display_data"
    }
   ],
   "source": [
    "day.plot.scatter('traffic_volume', 'temp')\n",
    "plt.ylim(240, 320)\n",
    "plt.show()"
   ]
  },
  {
   "cell_type": "markdown",
   "id": "43cc8cf2-ef97-46d9-a586-9e346c364065",
   "metadata": {},
   "source": [
    "Temprature showa the strongest correlation with value (0.13), the other don't show any strong correlation. but didn't show any reliable inbicator of heavy traffic.\n",
    "Let's calclate the avarege traffic volume associated with each unique value in those columns: `weater_mean` and `weather_discription`.\n",
    "\n",
    "\n",
    "#### Weather Types\n",
    "\n"
   ]
  },
  {
   "cell_type": "code",
   "execution_count": 83,
   "id": "094547a4-bb59-4fc7-9cf5-38a853b28595",
   "metadata": {},
   "outputs": [
    {
     "data": {
      "image/png": "[encoded data removed]",
      "text/plain": [
       "<Figure size 432x288 with 1 Axes>"
      ]
     },
     "metadata": {
      "needs_background": "light"
     },
     "output_type": "display_data"
    }
   ],
   "source": [
    "by_weather_main = day.groupby('weather_main').mean()\n",
    "by_weather_main['traffic_volume'].plot.barh()\n",
    "plt.show()\n"
   ]
  },
  {
   "cell_type": "code",
   "execution_count": 85,
   "id": "e237a7e7-9cf5-48ca-8b6d-9631e685a4fb",
   "metadata": {},
   "outputs": [
    {
     "data": {
      "text/html": [
       "<div>\n",
       "<style scoped>\n",
       "    .dataframe tbody tr th:only-of-type {\n",
       "        vertical-align: middle;\n",
       "    }\n",
       "\n",
       "    .dataframe tbody tr th {\n",
       "        vertical-align: top;\n",
       "    }\n",
       "\n",
       "    .dataframe thead th {\n",
       "        text-align: right;\n",
       "    }\n",
       "</style>\n",
       "<table border=\"1\" class=\"dataframe\">\n",
       "  <thead>\n",
       "    <tr style=\"text-align: right;\">\n",
       "      <th></th>\n",
       "      <th>temp</th>\n",
       "      <th>rain_1h</th>\n",
       "      <th>snow_1h</th>\n",
       "      <th>clouds_all</th>\n",
       "      <th>traffic_volume</th>\n",
       "      <th>month</th>\n",
       "      <th>year</th>\n",
       "      <th>dayofweek</th>\n",
       "      <th>hour</th>\n",
       "    </tr>\n",
       "    <tr>\n",
       "      <th>weather_main</th>\n",
       "      <th></th>\n",
       "      <th></th>\n",
       "      <th></th>\n",
       "      <th></th>\n",
       "      <th></th>\n",
       "      <th></th>\n",
       "      <th></th>\n",
       "      <th></th>\n",
       "      <th></th>\n",
       "    </tr>\n",
       "  </thead>\n",
       "  <tbody>\n",
       "    <tr>\n",
       "      <th>Clear</th>\n",
       "      <td>283.812078</td>\n",
       "      <td>0.000000</td>\n",
       "      <td>0.000000</td>\n",
       "      <td>1.670265</td>\n",
       "      <td>4778.416260</td>\n",
       "      <td>6.490599</td>\n",
       "      <td>2015.619429</td>\n",
       "      <td>3.138928</td>\n",
       "      <td>12.404248</td>\n",
       "    </tr>\n",
       "    <tr>\n",
       "      <th>Clouds</th>\n",
       "      <td>282.929274</td>\n",
       "      <td>0.000000</td>\n",
       "      <td>0.000000</td>\n",
       "      <td>62.667548</td>\n",
       "      <td>4865.415996</td>\n",
       "      <td>6.393243</td>\n",
       "      <td>2015.321420</td>\n",
       "      <td>3.005631</td>\n",
       "      <td>12.911974</td>\n",
       "    </tr>\n",
       "    <tr>\n",
       "      <th>Drizzle</th>\n",
       "      <td>284.456433</td>\n",
       "      <td>0.170804</td>\n",
       "      <td>0.000000</td>\n",
       "      <td>84.704417</td>\n",
       "      <td>4837.212911</td>\n",
       "      <td>7.105323</td>\n",
       "      <td>2015.882220</td>\n",
       "      <td>2.934315</td>\n",
       "      <td>12.308041</td>\n",
       "    </tr>\n",
       "    <tr>\n",
       "      <th>Fog</th>\n",
       "      <td>277.579641</td>\n",
       "      <td>0.163840</td>\n",
       "      <td>0.001409</td>\n",
       "      <td>65.477901</td>\n",
       "      <td>4372.491713</td>\n",
       "      <td>6.646409</td>\n",
       "      <td>2015.814917</td>\n",
       "      <td>2.798343</td>\n",
       "      <td>10.325967</td>\n",
       "    </tr>\n",
       "    <tr>\n",
       "      <th>Haze</th>\n",
       "      <td>275.319353</td>\n",
       "      <td>0.040036</td>\n",
       "      <td>0.000000</td>\n",
       "      <td>64.000000</td>\n",
       "      <td>4609.893285</td>\n",
       "      <td>5.832134</td>\n",
       "      <td>2015.557554</td>\n",
       "      <td>2.754197</td>\n",
       "      <td>12.467626</td>\n",
       "    </tr>\n",
       "    <tr>\n",
       "      <th>Mist</th>\n",
       "      <td>279.420825</td>\n",
       "      <td>0.249992</td>\n",
       "      <td>0.000825</td>\n",
       "      <td>74.961435</td>\n",
       "      <td>4623.976475</td>\n",
       "      <td>6.734285</td>\n",
       "      <td>2015.527574</td>\n",
       "      <td>2.895102</td>\n",
       "      <td>11.078288</td>\n",
       "    </tr>\n",
       "    <tr>\n",
       "      <th>Rain</th>\n",
       "      <td>287.089601</td>\n",
       "      <td>3.972943</td>\n",
       "      <td>0.000292</td>\n",
       "      <td>75.870116</td>\n",
       "      <td>4815.568462</td>\n",
       "      <td>6.774023</td>\n",
       "      <td>2015.572334</td>\n",
       "      <td>2.914467</td>\n",
       "      <td>12.642379</td>\n",
       "    </tr>\n",
       "    <tr>\n",
       "      <th>Smoke</th>\n",
       "      <td>292.405833</td>\n",
       "      <td>0.878333</td>\n",
       "      <td>0.000000</td>\n",
       "      <td>53.333333</td>\n",
       "      <td>4564.583333</td>\n",
       "      <td>6.833333</td>\n",
       "      <td>2015.916667</td>\n",
       "      <td>2.416667</td>\n",
       "      <td>13.166667</td>\n",
       "    </tr>\n",
       "    <tr>\n",
       "      <th>Snow</th>\n",
       "      <td>267.984505</td>\n",
       "      <td>0.014017</td>\n",
       "      <td>0.001768</td>\n",
       "      <td>80.501376</td>\n",
       "      <td>4396.321183</td>\n",
       "      <td>6.374828</td>\n",
       "      <td>2015.486245</td>\n",
       "      <td>2.750344</td>\n",
       "      <td>12.153370</td>\n",
       "    </tr>\n",
       "    <tr>\n",
       "      <th>Squall</th>\n",
       "      <td>296.730000</td>\n",
       "      <td>1.020000</td>\n",
       "      <td>0.000000</td>\n",
       "      <td>75.000000</td>\n",
       "      <td>4211.000000</td>\n",
       "      <td>7.000000</td>\n",
       "      <td>2016.000000</td>\n",
       "      <td>2.000000</td>\n",
       "      <td>14.000000</td>\n",
       "    </tr>\n",
       "    <tr>\n",
       "      <th>Thunderstorm</th>\n",
       "      <td>293.364678</td>\n",
       "      <td>1.146475</td>\n",
       "      <td>0.000000</td>\n",
       "      <td>75.184035</td>\n",
       "      <td>4648.212860</td>\n",
       "      <td>7.108647</td>\n",
       "      <td>2016.261641</td>\n",
       "      <td>2.955654</td>\n",
       "      <td>12.694013</td>\n",
       "    </tr>\n",
       "  </tbody>\n",
       "</table>\n",
       "</div>"
      ],
      "text/plain": [
       "                    temp   rain_1h   snow_1h  clouds_all  traffic_volume  \\\n",
       "weather_main                                                               \n",
       "Clear         283.812078  0.000000  0.000000    1.670265     4778.416260   \n",
       "Clouds        282.929274  0.000000  0.000000   62.667548     4865.415996   \n",
       "Drizzle       284.456433  0.170804  0.000000   84.704417     4837.212911   \n",
       "Fog           277.579641  0.163840  0.001409   65.477901     4372.491713   \n",
       "Haze          275.319353  0.040036  0.000000   64.000000     4609.893285   \n",
       "Mist          279.420825  0.249992  0.000825   74.961435     4623.976475   \n",
       "Rain          287.089601  3.972943  0.000292   75.870116     4815.568462   \n",
       "Smoke         292.405833  0.878333  0.000000   53.333333     4564.583333   \n",
       "Snow          267.984505  0.014017  0.001768   80.501376     4396.321183   \n",
       "Squall        296.730000  1.020000  0.000000   75.000000     4211.000000   \n",
       "Thunderstorm  293.364678  1.146475  0.000000   75.184035     4648.212860   \n",
       "\n",
       "                 month         year  dayofweek       hour  \n",
       "weather_main                                               \n",
       "Clear         6.490599  2015.619429   3.138928  12.404248  \n",
       "Clouds        6.393243  2015.321420   3.005631  12.911974  \n",
       "Drizzle       7.105323  2015.882220   2.934315  12.308041  \n",
       "Fog           6.646409  2015.814917   2.798343  10.325967  \n",
       "Haze          5.832134  2015.557554   2.754197  12.467626  \n",
       "Mist          6.734285  2015.527574   2.895102  11.078288  \n",
       "Rain          6.774023  2015.572334   2.914467  12.642379  \n",
       "Smoke         6.833333  2015.916667   2.416667  13.166667  \n",
       "Snow          6.374828  2015.486245   2.750344  12.153370  \n",
       "Squall        7.000000  2016.000000   2.000000  14.000000  \n",
       "Thunderstorm  7.108647  2016.261641   2.955654  12.694013  "
      ]
     },
     "execution_count": 85,
     "metadata": {},
     "output_type": "execute_result"
    }
   ],
   "source": [
    "day.groupby('weather_main').mean()"
   ]
  },
  {
   "cell_type": "code",
   "execution_count": 77,
   "id": "7ba4a1a2-36c5-495c-a1fd-4eead12b5a9e",
   "metadata": {},
   "outputs": [
    {
     "data": {
      "image/png": "[encoded data removed]",
      "text/plain": [
       "<Figure size 720x720 with 1 Axes>"
      ]
     },
     "metadata": {
      "needs_background": "light"
     },
     "output_type": "display_data"
    }
   ],
   "source": [
    "by_weather_description = day.groupby('weather_description').mean()\n",
    "by_weather_description['traffic_volume'].plot.barh(figsize=(10,10))\n",
    "plt.show()"
   ]
  },
  {
   "cell_type": "markdown",
   "id": "35f5953b-4ec3-4943-aee3-e2c50b98d308",
   "metadata": {},
   "source": [
    "There are three weather types where traffic volume more 5000 (Shower snow, Light rain and snow, Proximity thunderstorm with drizzle)\n",
    "\n",
    "#### Conclusion\n",
    "In this project, we tried to find a few indicators of heavy traffic on the I-94 Interstate highway. We managed to find two types of indicators:\n",
    "- Time indicators\n",
    "- The traffic is usually heavier during warm months (March–October) compared to cold months (November–February).\n",
    "- The traffic is usually heavier on business days compared to the weekends.\n",
    "- On business days, the rush hours are around 7 and 16.\n",
    "\n",
    "Weather indicators:\n",
    "- Shower snow\n",
    "- Light rain and snow\n",
    "- Proximity thunderstorm with drizzle."
   ]
  }
 ],
 "metadata": {
  "kernelspec": {
   "display_name": "Python 3",
   "language": "python",
   "name": "python3"
  },
  "language_info": {
   "codemirror_mode": {
    "name": "ipython",
    "version": 3
   },
   "file_extension": ".py",
   "mimetype": "text/x-python",
   "name": "python",
   "nbconvert_exporter": "python",
   "pygments_lexer": "ipython3",
   "version": "3.8.10"
  }
 },
 "nbformat": 4,
 "nbformat_minor": 5
}
